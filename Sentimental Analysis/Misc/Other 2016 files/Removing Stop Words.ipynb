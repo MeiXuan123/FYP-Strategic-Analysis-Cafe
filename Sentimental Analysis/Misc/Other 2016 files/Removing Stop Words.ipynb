{
 "cells": [
  {
   "cell_type": "code",
   "execution_count": null,
   "metadata": {},
   "outputs": [],
   "source": [
    "#removing all the stop words\n",
    "\n",
    "from nltk.corpus import stopwords\n",
    "from nltk.tokenize import word_tokenize\n",
    "\n",
    "numbs = len(tempList)\n",
    "tests = \"\"\n",
    "finalp = []\n",
    "ww = \"\"\n",
    "\n",
    "for i in range (0, numbs):\n",
    "    tests = tempList[i]\n",
    "    \n",
    "    stop_words = set(stopwords.words('english'))\n",
    "    word_tokens = word_tokenize(tests)\n",
    "    filtered_sentence = [w for w in word_tokens if not w in stop_words]\n",
    "    filtered_sentence = []                         \n",
    "    comb = \"\"\n",
    "    \n",
    "    for w in word_tokens:\n",
    "        if w not in stop_words:\n",
    "            filtered_sentence.append(w)\n",
    "            \n",
    "    fil = len(filtered_sentence)\n",
    "    \n",
    "    for y in range(0, fil):\n",
    "        comb = comb + \" \" + filtered_sentence[y]\n",
    "    finalp.append(comb)"
   ]
  }
 ],
 "metadata": {
  "kernelspec": {
   "display_name": "Python 3",
   "language": "python",
   "name": "python3"
  },
  "language_info": {
   "codemirror_mode": {
    "name": "ipython",
    "version": 3
   },
   "file_extension": ".py",
   "mimetype": "text/x-python",
   "name": "python",
   "nbconvert_exporter": "python",
   "pygments_lexer": "ipython3",
   "version": "3.6.4"
  }
 },
 "nbformat": 4,
 "nbformat_minor": 2
}
