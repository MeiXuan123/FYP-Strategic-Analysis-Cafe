{
 "cells": [
  {
   "cell_type": "code",
   "execution_count": 6,
   "metadata": {},
   "outputs": [],
   "source": [
    "import pandas as pd\n",
    "Burple =  pd.read_excel(r\"C:\\Users\\Mabel Lim\\Google Drive\\FYP\\Sentimental Analysis\\Sentimental_Burpple.xlsx\")\n",
    "\n",
    "counta = 0\n",
    "num = len(Burple)\n",
    "polarity = Burple['polarity'].tolist()\n",
    "neutral = []\n",
    "\n",
    "#Nuetral Reviews\n",
    "for i in range (0, num):\n",
    "    if polarity[i] <0.2 and polarity[i] > (-0.2):\n",
    "        neutral.append(i)\n",
    "\n",
    "nue = Burple.iloc[neutral]\n",
    "\n",
    "ex = pd.ExcelWriter('Burpple_Neutral_Reviews.xlsx', options={'encoding':'utf-8'})\n",
    "nue.to_excel(ex, 'Data', index=False)\n",
    "\n",
    "#Positive and Negative\n",
    "\n",
    "bp = Burple.drop(Burple.index[neutral])\n",
    "num = len(bp)\n",
    "polarity = bp['polarity'].tolist()\n",
    "positive = []\n",
    "negative = []\n",
    "neutral = []\n",
    "\n",
    "for i in range (0, num):\n",
    "    if polarity[i] >= 0.2:\n",
    "        positive.append(i)\n",
    "    if polarity[i] <= (-0.2):\n",
    "        negative.append(i)\n",
    "              \n",
    "#for Positive reviews\n",
    "bp1 = bp\n",
    "pos = bp1.drop(bp1.index[negative])\n",
    "\n",
    "ex = pd.ExcelWriter('Burpple_Positive_Reviews.xlsx', options={'encoding':'utf-8'})\n",
    "pos.to_excel(ex, 'Data', index=False)\n",
    "\n",
    "\n",
    "#for Negatove reviews\n",
    "bp2 = bp\n",
    "neg = bp2.drop(bp2.index[positive])\n",
    "\n",
    "ex = pd.ExcelWriter('Burpple_Negative_Reviews.xlsx', options={'encoding':'utf-8'})\n",
    "neg.to_excel(ex, 'Data', index=False)\n"
   ]
  }
 ],
 "metadata": {
  "kernelspec": {
   "display_name": "Python 3",
   "language": "python",
   "name": "python3"
  },
  "language_info": {
   "codemirror_mode": {
    "name": "ipython",
    "version": 3
   },
   "file_extension": ".py",
   "mimetype": "text/x-python",
   "name": "python",
   "nbconvert_exporter": "python",
   "pygments_lexer": "ipython3",
   "version": "3.6.4"
  }
 },
 "nbformat": 4,
 "nbformat_minor": 2
}
