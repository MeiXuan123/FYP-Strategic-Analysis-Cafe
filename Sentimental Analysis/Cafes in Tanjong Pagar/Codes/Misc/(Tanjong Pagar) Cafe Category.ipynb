{
 "cells": [
  {
   "cell_type": "code",
   "execution_count": 104,
   "metadata": {},
   "outputs": [],
   "source": [
    "import pandas as pd\n",
    "\n",
    "Cat = pd.read_excel(r\"CafeCategory.xlsx\")\n",
    "\n",
    "AllCafe = Cat.groupby('Category', sort=False, as_index=False).Neighbourhood.count().reset_index(drop=True)\n",
    "\n",
    "cate = Cat['Category'].tolist()\n",
    "name = Cat['Café_Names'].tolist()\n",
    "\n",
    "tpCat = pd.read_excel(r\"(TP) From2016_Average_Sentimental_Burpple.xlsx\")\n",
    "tpname = tpCat['Café_Names'].tolist()\n",
    "tpcount = tpCat['Count'].tolist()\n",
    "tpSent = tpCat['Average_Polarity'].tolist()\n"
   ]
  },
  {
   "cell_type": "code",
   "execution_count": 105,
   "metadata": {
    "scrolled": true
   },
   "outputs": [],
   "source": [
    "# extracting the names of the cafe in tp:\n",
    "\n",
    "tplist = []\n",
    "num = len(Cat)\n",
    "\n",
    "for i in range (0, num):\n",
    "    if name[i] in tpname:\n",
    "        tplist.append(i)\n",
    "\n",
    "tp = pd.DataFrame(Cat.iloc[tplist])\n",
    "\n",
    "#ex = pd.ExcelWriter('(TP) CafeCategory.xlsx', options={'encoding':'utf-8'})\n",
    "#tp.to_excel(ex, 'Data', index=False)\n"
   ]
  },
  {
   "cell_type": "code",
   "execution_count": 106,
   "metadata": {
    "scrolled": true
   },
   "outputs": [],
   "source": [
    "#first trying to find the total sentiment for each cafe\n",
    "\n",
    "num = len(tpCat)\n",
    "Total_Polarity = []\n",
    "total = 0\n",
    "\n",
    "for i in range (0, num):\n",
    "    total = tpcount[i] * tpSent[i]\n",
    "    Total_Polarity.append(total)\n",
    "    \n",
    "Total_Polarity = pd.Series(Total_Polarity)\n",
    "tpCat['Total_Polarity'] = Total_Polarity.values\n"
   ]
  },
  {
   "cell_type": "code",
   "execution_count": 107,
   "metadata": {},
   "outputs": [],
   "source": [
    "# findng the match\n",
    "\n",
    "targetname = \"\"\n",
    "indexorder = []\n",
    "num= len(tp)\n",
    "num1= len(tpCat)\n",
    "\n",
    "\n",
    "for i in range(0, 77):\n",
    "    #targetname = name[i]\n",
    "    for x in range(0, 77):\n",
    "        if name[i] == tpname[x]:\n",
    "            indexorder.append(x)\n",
    "#idk why the last 4 cafes won't match, so I have to do it manually.\n",
    "            \n",
    "#re-arrange tpCat\n",
    "\n",
    "leftovers = [73, 74, 75, 76, 25]\n",
    "num3 = len(leftovers)\n",
    "wek = 0\n",
    "\n",
    "for i in range(0, num3):\n",
    "    wek = leftovers[i]\n",
    "    indexorder.append(wek)\n",
    "\n",
    "tpCat1 = pd.DataFrame(tpCat.iloc[indexorder])\n",
    "\n",
    "tpCat1 = tpCat1.reset_index(drop = True)\n",
    "\n",
    "# now I have to fit the category into the new tpcat1\n",
    "\n",
    "catetp = tp['Category'].tolist()\n",
    "\n",
    "Category = pd.Series(catetp)\n",
    "tpCat1['Category'] = Category.values\n",
    "\n",
    "#ex= pd.ExcelWriter('(TP) CafeCategory1.xlsx', options={'encoding':'utf-8'})\n",
    "# tpCat1.to_excel(ex, 'Data', index=False)"
   ]
  },
  {
   "cell_type": "code",
   "execution_count": 108,
   "metadata": {},
   "outputs": [],
   "source": [
    "AllCafe\n",
    "CategoryMain = AllCafe['Category'].tolist()\n",
    "CatCafe = tpCat1['Category'].tolist()\n",
    "total_polarity = tpCat1['Total_Polarity'].tolist()\n",
    "total_count = tpCat1['Count'].tolist()\n",
    "\n",
    "num4 =  len(CategoryMain)\n",
    "num5 = len(tpCat1)\n",
    "count = 0\n",
    "Avg = 0\n",
    "total = 0\n",
    "total_p = []\n",
    "Avg_p = []\n",
    "count_p = []\n",
    "count_cat = 0\n",
    "count_cat1 =[]\n",
    "\n",
    "for i in range(0, num4):   #for every Category, Western going first\n",
    "    for x in range (0, num5):\n",
    "            if CatCafe[x] == CategoryMain[i]:\n",
    "                total = total + total_polarity[x]\n",
    "                count = count + total_count[x]\n",
    "                count_cat = count_cat + 1\n",
    "    Avg = total / count\n",
    "    total_p.append(total)\n",
    "    Avg_p.append(Avg)\n",
    "    count_p.append(count)\n",
    "    count_cat1.append(count_cat)\n",
    "    count = 0\n",
    "    Avg = 0\n",
    "    total = 0\n",
    "    count_cat = 0\n",
    "\n",
    "Final = pd.DataFrame()    \n",
    "    \n",
    "CatCafe = pd.Series(CategoryMain)\n",
    "Final['Category'] = CatCafe.values\n",
    "    \n",
    "count_cat1 = pd.Series(count_cat1)\n",
    "Final['Count'] = count_cat1.values\n",
    "    \n",
    "Avg_p = pd.Series(Avg_p)\n",
    "Final['Average_Polarity'] = Avg_p.values\n",
    "\n",
    "ex = pd.ExcelWriter('(TP) Average_Sentiment_For_CafeCategory.xlsx', options={'encoding':'utf-8'})\n",
    "Final.to_excel(ex, 'Data', index=False)"
   ]
  },
  {
   "cell_type": "code",
   "execution_count": null,
   "metadata": {},
   "outputs": [],
   "source": []
  }
 ],
 "metadata": {
  "kernelspec": {
   "display_name": "Python 3",
   "language": "python",
   "name": "python3"
  },
  "language_info": {
   "codemirror_mode": {
    "name": "ipython",
    "version": 3
   },
   "file_extension": ".py",
   "mimetype": "text/x-python",
   "name": "python",
   "nbconvert_exporter": "python",
   "pygments_lexer": "ipython3",
   "version": "3.6.4"
  }
 },
 "nbformat": 4,
 "nbformat_minor": 2
}
