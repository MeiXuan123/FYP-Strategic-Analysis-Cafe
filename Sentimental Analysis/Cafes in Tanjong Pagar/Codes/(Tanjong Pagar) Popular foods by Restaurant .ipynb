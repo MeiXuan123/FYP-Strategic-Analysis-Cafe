{
 "cells": [
  {
   "cell_type": "code",
   "execution_count": 62,
   "metadata": {},
   "outputs": [],
   "source": [
    "import pandas as pd\n",
    "import datetime\n",
    "import math\n",
    "import numpy\n",
    "\n",
    "Cleaned = pd.read_excel(r\"(TP) From2016_Sentimental_Burpple.xlsx\")\n",
    "Cleaned_Reviews = Cleaned['Cleaned_Reviews'].tolist()\n",
    "polarity = Cleaned['polarity'].tolist()\n",
    "Café_Names = Cleaned['Café_Names'].tolist()"
   ]
  },
  {
   "cell_type": "code",
   "execution_count": 63,
   "metadata": {
    "scrolled": true
   },
   "outputs": [],
   "source": [
    "Keywords = ['sweet potato', 'scrambled egg', 'rice bowl', 'pickled vegetables',\n",
    "           'iced mocha', 'ice cream', 'hollandaise sauce', 'gula melaka',\n",
    "           'date pudding', 'buttermilk waffle']\n",
    "\n",
    "temp = Cleaned.groupby('Café_Names', sort=False, as_index=False).Title.count().reset_index(drop=True)\n",
    "NoR = temp['Title'].tolist()\n",
    "Names = temp['Café_Names'].tolist()\n",
    "\n",
    "num = len(Keywords)\n",
    "num1 = len(NoR)\n",
    "pos = int(0)\n",
    "poss = int(0)\n",
    "average = []\n",
    "count = []\n",
    "cafename = []\n",
    "nothing = []\n",
    "foodname = []\n",
    "total = 0\n",
    "avg = 0\n",
    "cnt = 0\n",
    "\n",
    "for i in range (0, num):\n",
    "    keyword = str(Keywords[i])\n",
    "    pos = 0\n",
    "    poss = 0\n",
    "    for x in range(0, num1):\n",
    "        pos = pos + NoR[x]                            \n",
    "        totalp = 0  \n",
    "        averagep = 0\n",
    "        cnt = 0\n",
    "        total = 0\n",
    "        for y in range(poss, pos): \n",
    "            temprev = str(Cleaned_Reviews[y])\n",
    "            name = Café_Names[y]\n",
    "            if temprev.find(keyword) == -1:\n",
    "                nothing.append\n",
    "            else:\n",
    "                total = total + polarity[y]\n",
    "                cnt = cnt + 1\n",
    "        if total == 0 or cnt == 0:\n",
    "            nothing.append\n",
    "        else:\n",
    "            avg = total / cnt\n",
    "            average.append(avg)\n",
    "            count.append(cnt)\n",
    "            cafename.append(name)\n",
    "            foodname.append(keyword)\n",
    "        cnt = 0\n",
    "        total = 0\n",
    "        poss = pos\n",
    "    poss = 0\n",
    "    pos = 0"
   ]
  },
  {
   "cell_type": "code",
   "execution_count": 65,
   "metadata": {
    "scrolled": true
   },
   "outputs": [],
   "source": [
    "Final = pd.DataFrame() \n",
    "\n",
    "se = pd.Series(foodname)\n",
    "Final['Food'] = se\n",
    "\n",
    "se = pd.Series(cafename)\n",
    "Final['Cafe_Name'] = se\n",
    "\n",
    "se = pd.Series(count)\n",
    "Final['Count'] = se\n",
    "\n",
    "se = pd.Series(average)\n",
    "Final['Average_Sentimentality'] = se\n",
    "\n",
    "Final\n",
    "\n",
    "ex = pd.ExcelWriter('(TP) Resturants with the Food.xlsx', options={'encoding':'utf-8'})\n",
    "Final.to_excel(ex, 'Data')"
   ]
  },
  {
   "cell_type": "code",
   "execution_count": null,
   "metadata": {},
   "outputs": [],
   "source": []
  },
  {
   "cell_type": "code",
   "execution_count": null,
   "metadata": {},
   "outputs": [],
   "source": []
  }
 ],
 "metadata": {
  "kernelspec": {
   "display_name": "Python 3",
   "language": "python",
   "name": "python3"
  },
  "language_info": {
   "codemirror_mode": {
    "name": "ipython",
    "version": 3
   },
   "file_extension": ".py",
   "mimetype": "text/x-python",
   "name": "python",
   "nbconvert_exporter": "python",
   "pygments_lexer": "ipython3",
   "version": "3.6.4"
  }
 },
 "nbformat": 4,
 "nbformat_minor": 2
}
